{
 "cells": [
  {
   "cell_type": "markdown",
   "metadata": {},
   "source": []
  },
  {
   "cell_type": "markdown",
   "metadata": {},
   "source": [
    "# **PRESENTACIÓN PERSONAL**\n",
    "\n",
    "Mi nombre es **Marta Martínez Valero**, nací en una ciudad de España llamada **Alicante** , el 23 de septiembre de 1999. Cuando tenía 7 años me vine a vivir aquí a Guadalajara y llevo aquí desde entonces.\n",
    "Actualmente me gusta mucho patinar sobre hielo e ir a practicar ballet. También me gusta mucho **leer** diversos géneros de literatura, no tengo uno en especifico. \n",
    "Una de mis patinadoras favoritas Evgenia Medvedeva aquí voy a dejar un video de ella patinando ([www.youtube.com/watch?v=4mxCtzyHL6k]).\n",
    "\n",
    "    ESCUELAS:\n",
    "- _Colegio Cervantes Primaria_\n",
    "- _Colegio Cervantes Bosque_\n",
    "- _Colegio Cervantes Costa Rica_\n",
    "-  _Ahora estoy en el Iteso cursando tercer semestre de Ingeniería Financiera_\n",
    "\n",
    "> Una de las cosas que más me gusta hacer es ir a la playa, me encanta ver el mar o el oceano, caminar por la orilla, me gusta mucho la arena y las olas \n",
    "\n",
    "![playa](https://menteurbana.mx/wp-content/uploads/2016/07/Imagen-destacada-1.jpg) \n",
    "\n",
    "\n",
    "\n",
    "## RESUMEN DEL ARTÍCULO:   Python ha traido el lenguaje de programación a una nueva audiencia  \n",
    "<font color= red>\n",
    "Python es uno de los lenguajes de programación que ha tenido más auge en los últimos tiempos y se ha convertido en uno de los principales. Este lenguaje lo creo un holandés, Guido van Rossum, en diciembre de 1989. Él quería que su lenguaje fuera simple de leer, también debería permitir a los usuarios crear sus propios paquetes de módulos de codificación de propósito especial, que después podrían estar disponibles para la base de otros programas\n",
    "Su intención no era crearlo para un uso masivo, pero ahora es más buscado en google que Kim Kardashian. El programa no solo ha crecido en uso en los ámbitos laborales, en un 40 %, sino también para todos los usos. \n",
    "Van Rossum se convirtió en líder y el que vigilaba todo este sistema y no le gusta que la gente lo vea como un ídolo, desde hace poco ya decidió deslindarse y dejar que avanzara Python por los demás. \n",
    "Python no es un lenguaje perfecto. Hay otros como C+ que nos ayudan a saber que está pasando en el procesador de la computadora y Java es popular para la creación de aplicaciones largas y complejas. Pero Python por su lenguaje sencillo , hace que los códigos sean fáciles de compartir y de aprender, aparte de que tiene una gran versatilidad. Lo utilizan en muchas grandes compañías como Citigroup. Hay que tener cuidado ya que gente que no sepa sobre el tema en profundidad puede llegar a unas conclusiones que no son certeras.\n",
    "Ahora están intentando que Python se convierta en una herramienta que se enseñe a los niños desde la primaria, después va a ir siendo necesaria la especialización pero es una herramienta que nos sería muy útil a todos.\n",
    "\n"
   ]
  },
  {
   "cell_type": "code",
   "execution_count": null,
   "metadata": {},
   "outputs": [],
   "source": []
  },
  {
   "cell_type": "code",
   "execution_count": null,
   "metadata": {},
   "outputs": [],
   "source": []
  },
  {
   "cell_type": "code",
   "execution_count": null,
   "metadata": {},
   "outputs": [],
   "source": []
  }
 ],
 "metadata": {
  "kernelspec": {
   "display_name": "Python 3",
   "language": "python",
   "name": "python3"
  },
  "language_info": {
   "codemirror_mode": {
    "name": "ipython",
    "version": 3
   },
   "file_extension": ".py",
   "mimetype": "text/x-python",
   "name": "python",
   "nbconvert_exporter": "python",
   "pygments_lexer": "ipython3",
   "version": "3.6.5"
  }
 },
 "nbformat": 4,
 "nbformat_minor": 2
}
